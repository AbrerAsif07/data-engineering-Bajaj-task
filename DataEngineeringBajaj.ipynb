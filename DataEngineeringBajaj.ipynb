{
 "cells": [
  {
   "cell_type": "code",
   "execution_count": 1,
   "id": "f25a8e8f-da10-4613-ad31-a478a9ec17c3",
   "metadata": {},
   "outputs": [
    {
     "name": "stdout",
     "output_type": "stream",
     "text": [
      "Working directory: C:\\Users\\asifb\\DataEngineering\n",
      "Files here: ['.ipynb_checkpoints', 'DataEngineeringBajaj.ipynb', 'DataEngineeringQ2.json']\n"
     ]
    }
   ],
   "source": [
    "import os\n",
    "\n",
    "# prints the folder in which your notebook is running\n",
    "print(\"Working directory:\", os.getcwd())      \n",
    "\n",
    "# lists all files in that directory\n",
    "print(\"Files here:\", os.listdir())          \n"
   ]
  },
  {
   "cell_type": "code",
   "execution_count": 7,
   "id": "ce2f4beb-7fb3-4bf4-a9d1-3a7f1eb3d11f",
   "metadata": {},
   "outputs": [
    {
     "data": {
      "text/plain": [
       "{'_id': 'T6hf3rb5',\n",
       " 'appointmentId': '40d2-9c9f',\n",
       " 'patientDetails': {'_id': 'T6hb630b3',\n",
       "  'firstName': 'Css',\n",
       "  'lastName': '',\n",
       "  'emailId': '',\n",
       "  'gender': '',\n",
       "  'alternateContact': '',\n",
       "  'birthDate': None},\n",
       " 'phoneNumber': '96686896670',\n",
       " 'consultationData': {'adviceTemplates': [],\n",
       "  'advices': [],\n",
       "  'attachments': [],\n",
       "  'chiefComplaints': [],\n",
       "  'customOne': [],\n",
       "  'customThree': [],\n",
       "  'customTwo': [],\n",
       "  'disease': [],\n",
       "  'doctorNotes': '',\n",
       "  'emergencyInstructions': [],\n",
       "  'emergencyInstructionsTemplate': [],\n",
       "  'emrTemplates': [],\n",
       "  'examinationNote': [],\n",
       "  'findings': [],\n",
       "  'investigationInstructions': [],\n",
       "  'investigationTemplates': [],\n",
       "  'investigations': [],\n",
       "  'isBalicAppointment': False,\n",
       "  'isQuickPrescription': False,\n",
       "  'labTest': [],\n",
       "  'languageCode': 'en',\n",
       "  'medicineTemplates': [],\n",
       "  'medicines': [{'medicineId': '619404',\n",
       "    'medicineName': 'A',\n",
       "    'medicineNameStrengthType': '',\n",
       "    'frequency': '1-0-1',\n",
       "    'duration': '90',\n",
       "    'durationIn': 'DAYS',\n",
       "    'instruction': 'AFTER MEAL',\n",
       "    'isActive': True},\n",
       "   {'medicineId': '619804',\n",
       "    'medicineName': 'B',\n",
       "    'medicineNameStrengthType': '',\n",
       "    'frequency': '1-0-1',\n",
       "    'duration': '90',\n",
       "    'durationIn': 'DAYS',\n",
       "    'instruction': 'AFTER MEAL',\n",
       "    'isActive': False}],\n",
       "  'procedures': [],\n",
       "  'prognosis': [],\n",
       "  'sharePrescription': False}}"
      ]
     },
     "execution_count": 7,
     "metadata": {},
     "output_type": "execute_result"
    }
   ],
   "source": [
    "import json\n",
    "with open('DataEngineeringQ2.json') as f:\n",
    "    data = json.load(f)\n",
    "data[0]\n",
    "\n"
   ]
  },
  {
   "cell_type": "code",
   "execution_count": 9,
   "id": "054a77f5-08f0-4d7e-92b7-d0049328992d",
   "metadata": {},
   "outputs": [
    {
     "name": "stdout",
     "output_type": "stream",
     "text": [
      "Total records: 31\n"
     ]
    }
   ],
   "source": [
    "print('Total records:', len(data))"
   ]
  },
  {
   "cell_type": "code",
   "execution_count": 11,
   "id": "88a83dc9-ec67-442e-ac1b-7ab8756f9c2e",
   "metadata": {},
   "outputs": [
    {
     "name": "stdout",
     "output_type": "stream",
     "text": [
      "Keys in one record: dict_keys(['_id', 'appointmentId', 'patientDetails', 'phoneNumber', 'consultationData'])\n"
     ]
    }
   ],
   "source": [
    "print('Keys in one record:', data[0].keys())"
   ]
  },
  {
   "cell_type": "markdown",
   "id": "a090619b-5e17-44c1-b3c5-002a750095e1",
   "metadata": {},
   "source": [
    "### CONVERTING TO A DATAFRAME \n"
   ]
  },
  {
   "cell_type": "code",
   "execution_count": 17,
   "id": "e62d5c80-c3a5-4711-a3e2-ce13261e00e9",
   "metadata": {},
   "outputs": [
    {
     "name": "stdout",
     "output_type": "stream",
     "text": [
      "2.2.2\n"
     ]
    }
   ],
   "source": [
    "import pandas as pd\n",
    "print(pd.__version__)"
   ]
  },
  {
   "cell_type": "code",
   "execution_count": 23,
   "id": "aded9ef6-6bc1-4cc8-937c-357cdc8b60e8",
   "metadata": {},
   "outputs": [
    {
     "name": "stdout",
     "output_type": "stream",
     "text": [
      "DataFrame shape: (31, 43)\n",
      "Columns Availabel: ['_id', 'appointmentId', 'phoneNumber', 'patientDetails._id', 'patientDetails.firstName', 'patientDetails.lastName', 'patientDetails.emailId', 'patientDetails.gender', 'patientDetails.alternateContact', 'patientDetails.birthDate', 'consultationData.adviceTemplates', 'consultationData.advices', 'consultationData.attachments', 'consultationData.chiefComplaints', 'consultationData.customOne', 'consultationData.customThree', 'consultationData.customTwo', 'consultationData.disease', 'consultationData.doctorNotes', 'consultationData.emergencyInstructions', 'consultationData.emergencyInstructionsTemplate', 'consultationData.emrTemplates', 'consultationData.examinationNote', 'consultationData.findings', 'consultationData.investigationInstructions', 'consultationData.investigationTemplates', 'consultationData.investigations', 'consultationData.isBalicAppointment', 'consultationData.isQuickPrescription', 'consultationData.labTest', 'consultationData.languageCode', 'consultationData.medicineTemplates', 'consultationData.medicines', 'consultationData.procedures', 'consultationData.prognosis', 'consultationData.sharePrescription', 'patientDetails.phrId', 'patientDetails.chat._id', 'patientDetails.customId', 'patientDetails.chat.channelId', 'consultationData._id', 'consultationData.updatedAt', 'consultationData.createdAt']\n"
     ]
    },
    {
     "data": {
      "text/html": [
       "<div>\n",
       "<style scoped>\n",
       "    .dataframe tbody tr th:only-of-type {\n",
       "        vertical-align: middle;\n",
       "    }\n",
       "\n",
       "    .dataframe tbody tr th {\n",
       "        vertical-align: top;\n",
       "    }\n",
       "\n",
       "    .dataframe thead th {\n",
       "        text-align: right;\n",
       "    }\n",
       "</style>\n",
       "<table border=\"1\" class=\"dataframe\">\n",
       "  <thead>\n",
       "    <tr style=\"text-align: right;\">\n",
       "      <th></th>\n",
       "      <th>_id</th>\n",
       "      <th>appointmentId</th>\n",
       "      <th>phoneNumber</th>\n",
       "      <th>patientDetails._id</th>\n",
       "      <th>patientDetails.firstName</th>\n",
       "      <th>patientDetails.lastName</th>\n",
       "      <th>patientDetails.emailId</th>\n",
       "      <th>patientDetails.gender</th>\n",
       "      <th>patientDetails.alternateContact</th>\n",
       "      <th>patientDetails.birthDate</th>\n",
       "      <th>...</th>\n",
       "      <th>consultationData.procedures</th>\n",
       "      <th>consultationData.prognosis</th>\n",
       "      <th>consultationData.sharePrescription</th>\n",
       "      <th>patientDetails.phrId</th>\n",
       "      <th>patientDetails.chat._id</th>\n",
       "      <th>patientDetails.customId</th>\n",
       "      <th>patientDetails.chat.channelId</th>\n",
       "      <th>consultationData._id</th>\n",
       "      <th>consultationData.updatedAt</th>\n",
       "      <th>consultationData.createdAt</th>\n",
       "    </tr>\n",
       "  </thead>\n",
       "  <tbody>\n",
       "    <tr>\n",
       "      <th>0</th>\n",
       "      <td>T6hf3rb5</td>\n",
       "      <td>40d2-9c9f</td>\n",
       "      <td>96686896670</td>\n",
       "      <td>T6hb630b3</td>\n",
       "      <td>Css</td>\n",
       "      <td></td>\n",
       "      <td></td>\n",
       "      <td></td>\n",
       "      <td></td>\n",
       "      <td>None</td>\n",
       "      <td>...</td>\n",
       "      <td>[]</td>\n",
       "      <td>[]</td>\n",
       "      <td>False</td>\n",
       "      <td>NaN</td>\n",
       "      <td>NaN</td>\n",
       "      <td>NaN</td>\n",
       "      <td>NaN</td>\n",
       "      <td>NaN</td>\n",
       "      <td>NaN</td>\n",
       "      <td>NaN</td>\n",
       "    </tr>\n",
       "    <tr>\n",
       "      <th>1</th>\n",
       "      <td>T65g3rb5</td>\n",
       "      <td>40dbtc9f</td>\n",
       "      <td>9496368916</td>\n",
       "      <td>T6h33b300</td>\n",
       "      <td>Lokesh</td>\n",
       "      <td></td>\n",
       "      <td></td>\n",
       "      <td>M</td>\n",
       "      <td>NaN</td>\n",
       "      <td>1996-05-16T18:30:00.000Z</td>\n",
       "      <td>...</td>\n",
       "      <td>[]</td>\n",
       "      <td>[]</td>\n",
       "      <td>False</td>\n",
       "      <td>NaN</td>\n",
       "      <td>NaN</td>\n",
       "      <td>NaN</td>\n",
       "      <td>NaN</td>\n",
       "      <td>NaN</td>\n",
       "      <td>NaN</td>\n",
       "      <td>NaN</td>\n",
       "    </tr>\n",
       "    <tr>\n",
       "      <th>2</th>\n",
       "      <td>T7g6Srb5</td>\n",
       "      <td>g3Wt5c9f</td>\n",
       "      <td>7787204833</td>\n",
       "      <td>TjhB4373</td>\n",
       "      <td>Shila</td>\n",
       "      <td>Das</td>\n",
       "      <td></td>\n",
       "      <td>NaN</td>\n",
       "      <td>NaN</td>\n",
       "      <td>NaN</td>\n",
       "      <td>...</td>\n",
       "      <td>[]</td>\n",
       "      <td>[]</td>\n",
       "      <td>False</td>\n",
       "      <td>63b5hvy614d5</td>\n",
       "      <td>NaN</td>\n",
       "      <td>NaN</td>\n",
       "      <td>NaN</td>\n",
       "      <td>NaN</td>\n",
       "      <td>NaN</td>\n",
       "      <td>NaN</td>\n",
       "    </tr>\n",
       "  </tbody>\n",
       "</table>\n",
       "<p>3 rows × 43 columns</p>\n",
       "</div>"
      ],
      "text/plain": [
       "        _id appointmentId  phoneNumber patientDetails._id  \\\n",
       "0  T6hf3rb5     40d2-9c9f  96686896670          T6hb630b3   \n",
       "1  T65g3rb5      40dbtc9f   9496368916          T6h33b300   \n",
       "2  T7g6Srb5      g3Wt5c9f   7787204833           TjhB4373   \n",
       "\n",
       "  patientDetails.firstName patientDetails.lastName patientDetails.emailId  \\\n",
       "0                      Css                                                  \n",
       "1                   Lokesh                                                  \n",
       "2                    Shila                     Das                          \n",
       "\n",
       "  patientDetails.gender patientDetails.alternateContact  \\\n",
       "0                                                         \n",
       "1                     M                             NaN   \n",
       "2                   NaN                             NaN   \n",
       "\n",
       "   patientDetails.birthDate  ... consultationData.procedures  \\\n",
       "0                      None  ...                          []   \n",
       "1  1996-05-16T18:30:00.000Z  ...                          []   \n",
       "2                       NaN  ...                          []   \n",
       "\n",
       "  consultationData.prognosis consultationData.sharePrescription  \\\n",
       "0                         []                              False   \n",
       "1                         []                              False   \n",
       "2                         []                              False   \n",
       "\n",
       "  patientDetails.phrId patientDetails.chat._id patientDetails.customId  \\\n",
       "0                  NaN                     NaN                     NaN   \n",
       "1                  NaN                     NaN                     NaN   \n",
       "2         63b5hvy614d5                     NaN                     NaN   \n",
       "\n",
       "  patientDetails.chat.channelId consultationData._id  \\\n",
       "0                           NaN                  NaN   \n",
       "1                           NaN                  NaN   \n",
       "2                           NaN                  NaN   \n",
       "\n",
       "  consultationData.updatedAt consultationData.createdAt  \n",
       "0                        NaN                        NaN  \n",
       "1                        NaN                        NaN  \n",
       "2                        NaN                        NaN  \n",
       "\n",
       "[3 rows x 43 columns]"
      ]
     },
     "metadata": {},
     "output_type": "display_data"
    }
   ],
   "source": [
    "import pandas as pd\n",
    "\n",
    "df= pd.json_normalize(data, sep='.')\n",
    "\n",
    "print(\"DataFrame shape:\", df.shape)  # (rows, columns)\n",
    "print(\"Columns Availabel:\", df.columns.tolist())\n",
    "display(df.head(3))"
   ]
  },
  {
   "cell_type": "markdown",
   "id": "8a3b147a-5805-4da8-9248-e56dc20ac0e3",
   "metadata": {},
   "source": [
    "### Parse and Clean Key Columns"
   ]
  },
  {
   "cell_type": "code",
   "execution_count": 25,
   "id": "d71e4e9c-007f-48a8-bc67-bc2c88cfb24c",
   "metadata": {},
   "outputs": [
    {
     "name": "stdout",
     "output_type": "stream",
     "text": [
      "Non-null birthDates: 21 out of 31\n"
     ]
    },
    {
     "data": {
      "text/html": [
       "<div>\n",
       "<style scoped>\n",
       "    .dataframe tbody tr th:only-of-type {\n",
       "        vertical-align: middle;\n",
       "    }\n",
       "\n",
       "    .dataframe tbody tr th {\n",
       "        vertical-align: top;\n",
       "    }\n",
       "\n",
       "    .dataframe thead th {\n",
       "        text-align: right;\n",
       "    }\n",
       "</style>\n",
       "<table border=\"1\" class=\"dataframe\">\n",
       "  <thead>\n",
       "    <tr style=\"text-align: right;\">\n",
       "      <th></th>\n",
       "      <th>patientDetails.firstName</th>\n",
       "      <th>birthDate</th>\n",
       "    </tr>\n",
       "  </thead>\n",
       "  <tbody>\n",
       "    <tr>\n",
       "      <th>0</th>\n",
       "      <td>Css</td>\n",
       "      <td>NaT</td>\n",
       "    </tr>\n",
       "    <tr>\n",
       "      <th>1</th>\n",
       "      <td>Lokesh</td>\n",
       "      <td>1996-05-16 18:30:00+00:00</td>\n",
       "    </tr>\n",
       "    <tr>\n",
       "      <th>2</th>\n",
       "      <td>Shila</td>\n",
       "      <td>NaT</td>\n",
       "    </tr>\n",
       "    <tr>\n",
       "      <th>3</th>\n",
       "      <td>Bhavika</td>\n",
       "      <td>1988-04-24 14:30:00+00:00</td>\n",
       "    </tr>\n",
       "    <tr>\n",
       "      <th>4</th>\n",
       "      <td>Raghu Viju</td>\n",
       "      <td>NaT</td>\n",
       "    </tr>\n",
       "  </tbody>\n",
       "</table>\n",
       "</div>"
      ],
      "text/plain": [
       "  patientDetails.firstName                 birthDate\n",
       "0                      Css                       NaT\n",
       "1                   Lokesh 1996-05-16 18:30:00+00:00\n",
       "2                    Shila                       NaT\n",
       "3                  Bhavika 1988-04-24 14:30:00+00:00\n",
       "4               Raghu Viju                       NaT"
      ]
     },
     "execution_count": 25,
     "metadata": {},
     "output_type": "execute_result"
    }
   ],
   "source": [
    "import pandas as pd\n",
    "\n",
    "# Parse the birthDate column\n",
    "df['birthDate'] = pd.to_datetime(df['patientDetails.birthDate'], utc=True, errors='coerce')\n",
    "\n",
    "# See how many parsed successfully\n",
    "print(\"Non-null birthDates:\", df['birthDate'].notna().sum(), \"out of\", len(df))\n",
    "\n",
    "# Peek at the new column\n",
    "df[['patientDetails.firstName', 'birthDate']].head()\n"
   ]
  },
  {
   "cell_type": "markdown",
   "id": "d8ea53a5-a793-41bf-b876-507af4bd0109",
   "metadata": {},
   "source": [
    "### COMPUTE EACH PATIENT’S AGE AS OF APRIL 24, 2025:"
   ]
  },
  {
   "cell_type": "code",
   "execution_count": 27,
   "id": "8aa653d9-5e24-4237-b907-b8baf9511ff2",
   "metadata": {},
   "outputs": [
    {
     "name": "stdout",
     "output_type": "stream",
     "text": [
      "Average age: 35.54 years\n"
     ]
    }
   ],
   "source": [
    "import pandas as pd\n",
    "\n",
    "# 1. Define the reference date (with UTC tz to match birthDate)\n",
    "ref_date = pd.Timestamp('2025-04-24', tz='UTC')\n",
    "\n",
    "# 2. Compute age in years (days difference ÷ 365.25)\n",
    "df['age'] = (ref_date - df['birthDate']).dt.days / 365.25\n",
    "\n",
    "# 3. Quick check: first few names & ages\n",
    "df[['patientDetails.firstName', 'birthDate', 'age']].head()\n",
    "\n",
    "# 4. Calculate the average age (ignoring missing birthDates)\n",
    "average_age = df['age'].mean()\n",
    "print(f\"Average age: {average_age:.2f} years\")\n"
   ]
  },
  {
   "cell_type": "markdown",
   "id": "b855db9d-36bf-4c8b-9361-eac5ad28f2ec",
   "metadata": {},
   "source": [
    "### COUNT MEDICINES PER PATIENT"
   ]
  },
  {
   "cell_type": "code",
   "execution_count": 29,
   "id": "a66c06a2-77af-422b-b64a-b0017b34157a",
   "metadata": {},
   "outputs": [
    {
     "data": {
      "text/html": [
       "<div>\n",
       "<style scoped>\n",
       "    .dataframe tbody tr th:only-of-type {\n",
       "        vertical-align: middle;\n",
       "    }\n",
       "\n",
       "    .dataframe tbody tr th {\n",
       "        vertical-align: top;\n",
       "    }\n",
       "\n",
       "    .dataframe thead th {\n",
       "        text-align: right;\n",
       "    }\n",
       "</style>\n",
       "<table border=\"1\" class=\"dataframe\">\n",
       "  <thead>\n",
       "    <tr style=\"text-align: right;\">\n",
       "      <th></th>\n",
       "      <th>patientDetails.firstName</th>\n",
       "      <th>med_count</th>\n",
       "    </tr>\n",
       "  </thead>\n",
       "  <tbody>\n",
       "    <tr>\n",
       "      <th>0</th>\n",
       "      <td>Css</td>\n",
       "      <td>2</td>\n",
       "    </tr>\n",
       "    <tr>\n",
       "      <th>1</th>\n",
       "      <td>Lokesh</td>\n",
       "      <td>2</td>\n",
       "    </tr>\n",
       "    <tr>\n",
       "      <th>2</th>\n",
       "      <td>Shila</td>\n",
       "      <td>3</td>\n",
       "    </tr>\n",
       "    <tr>\n",
       "      <th>3</th>\n",
       "      <td>Bhavika</td>\n",
       "      <td>1</td>\n",
       "    </tr>\n",
       "    <tr>\n",
       "      <th>4</th>\n",
       "      <td>Raghu Viju</td>\n",
       "      <td>2</td>\n",
       "    </tr>\n",
       "  </tbody>\n",
       "</table>\n",
       "</div>"
      ],
      "text/plain": [
       "  patientDetails.firstName  med_count\n",
       "0                      Css          2\n",
       "1                   Lokesh          2\n",
       "2                    Shila          3\n",
       "3                  Bhavika          1\n",
       "4               Raghu Viju          2"
      ]
     },
     "execution_count": 29,
     "metadata": {},
     "output_type": "execute_result"
    }
   ],
   "source": [
    "# 1. Create a new column 'med_count' that is the length of each medicines list\n",
    "df['med_count'] = df['consultationData.medicines'].apply(lambda meds: len(meds))\n",
    "\n",
    "# 2. Quick check: see the first few patients with their medicine counts\n",
    "df[['patientDetails.firstName', 'med_count']].head()\n"
   ]
  },
  {
   "cell_type": "markdown",
   "id": "11e5a9f9-4620-49e7-8753-b40addfcf0f9",
   "metadata": {},
   "source": [
    "### PEARSON CORRELATION BETWEEN AGE AND MED_COUNT:The Pearson correlation coefficient (often denoted as r) is a statistic that measures the strength and direction of the linear relationship between two continuous variables."
   ]
  },
  {
   "cell_type": "code",
   "execution_count": 31,
   "id": "ef2e8b9b-c213-471c-9d5a-d351d0c33b69",
   "metadata": {},
   "outputs": [
    {
     "name": "stdout",
     "output_type": "stream",
     "text": [
      "Pearson correlation between age and number of medicines: -0.22\n"
     ]
    }
   ],
   "source": [
    "# Calculate Pearson correlation\n",
    "correlation = df['age'].corr(df['med_count'])\n",
    "\n",
    "# Display with two decimal places\n",
    "print(f\"Pearson correlation between age and number of medicines: {correlation:.2f}\")\n"
   ]
  },
  {
   "cell_type": "markdown",
   "id": "da6d42a6-52ed-4bdd-b1c0-881577994b0f",
   "metadata": {},
   "source": [
    "### SCATTER PLOT OF AGE VS. NUMBER OF MEDICINES"
   ]
  },
  {
   "cell_type": "code",
   "execution_count": 42,
   "id": "5042f9bd-5b76-4c31-9664-987393b0ff87",
   "metadata": {},
   "outputs": [
    {
     "data": {
      "image/png": "[encoded data removed]",
      "text/plain": [
       "<Figure size 640x480 with 1 Axes>"
      ]
     },
     "metadata": {},
     "output_type": "display_data"
    }
   ],
   "source": [
    "import matplotlib.pyplot as plt\n",
    "\n",
    "# Scatter plot: age on the x-axis, medicine count on the y-axis\n",
    "plt.scatter(df['age'], df['med_count'])\n",
    "\n",
    "# Label the axes\n",
    "plt.xlabel('Age (years)')\n",
    "plt.ylabel('Number of Prescribed Medicines')\n",
    "\n",
    "# Add a title\n",
    "plt.title('Age vs. Number of Medicines')\n",
    "\n",
    "# Display the plot\n",
    "plt.show()\n"
   ]
  },
  {
   "cell_type": "code",
   "execution_count": 47,
   "id": "d42b50b6-2f43-4323-bb63-9145c7378eb4",
   "metadata": {},
   "outputs": [
    {
     "data": {
      "image/png": "[encoded data removed]",
      "text/plain": [
       "<Figure size 640x480 with 1 Axes>"
      ]
     },
     "metadata": {},
     "output_type": "display_data"
    }
   ],
   "source": [
    "import matplotlib.pyplot as plt\n",
    "import numpy as np\n",
    "\n",
    "# Suppose you’re making the age histogram again:\n",
    "ages = df['age'].dropna()\n",
    "\n",
    "# 1. Create the histogram and capture the bar patches\n",
    "counts, bins, patches = plt.hist(ages, bins=10)\n",
    "\n",
    "# 2. Generate a list of colors (one per bar) from a colormap\n",
    "colors = plt.cm.viridis(np.linspace(0, 1, len(patches)))\n",
    "\n",
    "# 3. Apply each color to the corresponding bar\n",
    "for patch, color in zip(patches, colors):\n",
    "    patch.set_facecolor(color)\n",
    "\n",
    "# 4. Label and show\n",
    "plt.xlabel('Age (years)')\n",
    "plt.ylabel('Count')\n",
    "plt.title('Distribution of Patient Ages with Colored Bars')\n",
    "plt.show()\n"
   ]
  },
  {
   "cell_type": "markdown",
   "id": "d9b798e8-9644-4d51-a3d8-4ceeb2d0845f",
   "metadata": {},
   "source": [
    "### Chekcinh isValidMobile Column"
   ]
  },
  {
   "cell_type": "code",
   "execution_count": 50,
   "id": "ee52807b-19ac-413a-bf4b-e94ba2c72d83",
   "metadata": {},
   "outputs": [],
   "source": [
    "def is_valid_mobile(phone):\n",
    "    # 1. Convert to string and trim whitespace\n",
    "    s = str(phone).strip()\n",
    "\n",
    "    # 2. Strip country‐code prefixes if present\n",
    "    if s.startswith('+91'):\n",
    "        s = s[3:]\n",
    "    elif s.startswith('91'):\n",
    "        s = s[2:]\n",
    "\n",
    "    # 3. Check that the remainder is exactly 10 digits\n",
    "    if not (s.isdigit() and len(s) == 10):\n",
    "        return False\n",
    "\n",
    "    # 4. Convert to integer and ensure it’s in the valid range\n",
    "    n = int(s)\n",
    "    return 6000000000 <= n <= 9999999999\n"
   ]
  },
  {
   "cell_type": "code",
   "execution_count": 52,
   "id": "501a4fe2-b521-4701-b2b8-bb601cea80f5",
   "metadata": {},
   "outputs": [
    {
     "data": {
      "text/html": [
       "<div>\n",
       "<style scoped>\n",
       "    .dataframe tbody tr th:only-of-type {\n",
       "        vertical-align: middle;\n",
       "    }\n",
       "\n",
       "    .dataframe tbody tr th {\n",
       "        vertical-align: top;\n",
       "    }\n",
       "\n",
       "    .dataframe thead th {\n",
       "        text-align: right;\n",
       "    }\n",
       "</style>\n",
       "<table border=\"1\" class=\"dataframe\">\n",
       "  <thead>\n",
       "    <tr style=\"text-align: right;\">\n",
       "      <th></th>\n",
       "      <th>phoneNumber</th>\n",
       "      <th>isValidMobile</th>\n",
       "    </tr>\n",
       "  </thead>\n",
       "  <tbody>\n",
       "    <tr>\n",
       "      <th>0</th>\n",
       "      <td>96686896670</td>\n",
       "      <td>False</td>\n",
       "    </tr>\n",
       "    <tr>\n",
       "      <th>1</th>\n",
       "      <td>9496368916</td>\n",
       "      <td>True</td>\n",
       "    </tr>\n",
       "    <tr>\n",
       "      <th>2</th>\n",
       "      <td>7787204833</td>\n",
       "      <td>True</td>\n",
       "    </tr>\n",
       "    <tr>\n",
       "      <th>3</th>\n",
       "      <td>9376756879</td>\n",
       "      <td>True</td>\n",
       "    </tr>\n",
       "    <tr>\n",
       "      <th>4</th>\n",
       "      <td>5267384241</td>\n",
       "      <td>False</td>\n",
       "    </tr>\n",
       "    <tr>\n",
       "      <th>5</th>\n",
       "      <td>+919826374025</td>\n",
       "      <td>True</td>\n",
       "    </tr>\n",
       "    <tr>\n",
       "      <th>6</th>\n",
       "      <td>7587265252</td>\n",
       "      <td>True</td>\n",
       "    </tr>\n",
       "    <tr>\n",
       "      <th>7</th>\n",
       "      <td>5586958767</td>\n",
       "      <td>False</td>\n",
       "    </tr>\n",
       "    <tr>\n",
       "      <th>8</th>\n",
       "      <td>9987602525</td>\n",
       "      <td>True</td>\n",
       "    </tr>\n",
       "    <tr>\n",
       "      <th>9</th>\n",
       "      <td>9234354366</td>\n",
       "      <td>True</td>\n",
       "    </tr>\n",
       "  </tbody>\n",
       "</table>\n",
       "</div>"
      ],
      "text/plain": [
       "     phoneNumber  isValidMobile\n",
       "0    96686896670          False\n",
       "1     9496368916           True\n",
       "2     7787204833           True\n",
       "3     9376756879           True\n",
       "4     5267384241          False\n",
       "5  +919826374025           True\n",
       "6     7587265252           True\n",
       "7     5586958767          False\n",
       "8     9987602525           True\n",
       "9     9234354366           True"
      ]
     },
     "execution_count": 52,
     "metadata": {},
     "output_type": "execute_result"
    }
   ],
   "source": [
    "# Create the new boolean column\n",
    "df['isValidMobile'] = df['phoneNumber'].apply(is_valid_mobile)\n",
    "\n",
    "# Peek at the results\n",
    "df[['phoneNumber', 'isValidMobile']].head(10)\n"
   ]
  },
  {
   "cell_type": "code",
   "execution_count": 54,
   "id": "f2a8961c-6ad4-44df-ba83-409dc706106c",
   "metadata": {},
   "outputs": [
    {
     "name": "stdout",
     "output_type": "stream",
     "text": [
      "Valid Indian phone numbers: 18 out of 31\n"
     ]
    }
   ],
   "source": [
    "valid_count = df['isValidMobile'].sum()\n",
    "print(f\"Valid Indian phone numbers: {valid_count} out of {len(df)}\")\n"
   ]
  },
  {
   "cell_type": "code",
   "execution_count": null,
   "id": "e5d0f14c-6311-4718-a44b-522c6df78923",
   "metadata": {},
   "outputs": [],
   "source": []
  }
 ],
 "metadata": {
  "kernelspec": {
   "display_name": "Python 3 (ipykernel)",
   "language": "python",
   "name": "python3"
  },
  "language_info": {
   "codemirror_mode": {
    "name": "ipython",
    "version": 3
   },
   "file_extension": ".py",
   "mimetype": "text/x-python",
   "name": "python",
   "nbconvert_exporter": "python",
   "pygments_lexer": "ipython3",
   "version": "3.12.4"
  }
 },
 "nbformat": 4,
 "nbformat_minor": 5
}
